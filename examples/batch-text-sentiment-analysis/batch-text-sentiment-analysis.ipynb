{
  "cells": [
    {
      "cell_type": "markdown",
      "metadata": {},
      "source": [
        "## Batch API / Sentiment Analysis\n",
        "\n",
        "This notebook uses the batch API to perform sentiment analysis on text."
      ]
    },
    {
      "cell_type": "code",
      "execution_count": 17,
      "metadata": {},
      "outputs": [],
      "source": [
        "from utilities import print_emotions, print_sentiment\n",
        "\n",
        "from hume import HumeBatchClient\n",
        "from hume.models.config import LanguageConfig"
      ]
    },
    {
      "cell_type": "markdown",
      "metadata": {},
      "source": [
        "### Submit a batch job"
      ]
    },
    {
      "cell_type": "code",
      "execution_count": 18,
      "metadata": {},
      "outputs": [
        {
          "name": "stdout",
          "output_type": "stream",
          "text": [
            "Running... Job(id=\"b6a11764-c911-4c3d-bad6-d732270e227a\")\n",
            "Job completed with status:  BatchJobStatus.COMPLETED\n"
          ]
        }
      ],
      "source": [
        "client = HumeBatchClient(\"BvwDPKJ6eevK678fTrO0rQE39eamDj9HbxkNN2mjtvVLLnAo\")\n",
        "urls = [\"https://storage.googleapis.com/hume-test-data/text/happy.txt\"]\n",
        "config = LanguageConfig(granularity=\"conversational_turn\", sentiment={},toxicity={})\n",
        "job = client.submit_job(urls, [config])\n",
        "\n",
        "print(\"Running...\", job)\n",
        "\n",
        "job.await_complete()\n",
        "print(\"Job completed with status: \", job.get_status())"
      ]
    },
    {
      "cell_type": "markdown",
      "metadata": {},
      "source": [
        "### Print out predictions"
      ]
    },
    {
      "cell_type": "code",
      "execution_count": 19,
      "metadata": {},
      "outputs": [
        {
          "name": "stdout",
          "output_type": "stream",
          "text": [
            "I am a happy guy at a happy place.\n",
            "- Joy: 0.776588\n",
            "- Sadness: 0.004060\n",
            "- Anger: 0.001410\n",
            "~ ~ ~\n",
            "- Sentiment 1: 0.000878\n",
            "- Sentiment 2: 0.002107\n",
            "- Sentiment 3: 0.003371\n",
            "- Sentiment 4: 0.007261\n",
            "- Sentiment 5: 0.038825\n",
            "- Sentiment 6: 0.102944\n",
            "- Sentiment 7: 0.244967\n",
            "- Sentiment 8: 0.349988\n",
            "- Sentiment 9: 0.266656\n",
            "\n"
          ]
        }
      ],
      "source": [
        "\n",
        "def print_predictions(full_predictions):\n",
        "    for source in full_predictions:\n",
        "        predictions = source[\"results\"][\"predictions\"]\n",
        "        for prediction in predictions:\n",
        "            language_predictions = prediction[\"models\"][\"language\"][\"grouped_predictions\"]\n",
        "            for language_prediction in language_predictions:\n",
        "                for chunk in language_prediction[\"predictions\"]:\n",
        "                    print(chunk[\"text\"])\n",
        "                    print_emotions(chunk[\"emotions\"])\n",
        "                    print(\"~ ~ ~\")\n",
        "                    print_sentiment(chunk[\"sentiment\"])\n",
        "                    print()\n",
        "\n",
        "full_predictions = job.get_predictions()\n",
        "print_predictions(full_predictions)\n",
        "\n"
      ]
    },
    {
      "cell_type": "markdown",
      "metadata": {},
      "source": [
        "### Download JSON file of predictions"
      ]
    },
    {
      "cell_type": "code",
      "execution_count": 16,
      "metadata": {},
      "outputs": [
        {
          "name": "stdout",
          "output_type": "stream",
          "text": [
            "\n",
            "Predictions downloaded to predictions.json\n"
          ]
        }
      ],
      "source": [
        "job.download_predictions(\"predictions.json\")\n",
        "print(f\"\\nPredictions downloaded to predictions.json\")"
      ]
    },
    {
      "cell_type": "code",
      "execution_count": null,
      "metadata": {},
      "outputs": [],
      "source": []
    }
  ],
  "metadata": {
    "kernelspec": {
      "display_name": "Python 3 (ipykernel)",
      "language": "python",
      "name": "python3"
    },
    "language_info": {
      "codemirror_mode": {
        "name": "ipython",
        "version": 3
      },
      "file_extension": ".py",
      "mimetype": "text/x-python",
      "name": "python",
      "nbconvert_exporter": "python",
      "pygments_lexer": "ipython3",
      "version": "3.11.9"
    },
    "vscode": {
      "interpreter": {
        "hash": "803ebf602b46e67aaba753b211048224996199ded4fc88a644a85d99d245b351"
      }
    }
  },
  "nbformat": 4,
  "nbformat_minor": 2
}
